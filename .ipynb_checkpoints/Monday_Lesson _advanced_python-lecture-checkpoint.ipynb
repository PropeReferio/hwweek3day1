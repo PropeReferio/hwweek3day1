{
 "cells": [
  {
   "cell_type": "markdown",
   "metadata": {},
   "source": [
    "# Advanced Object-Oriented-Programming (OOP)"
   ]
  },
  {
   "cell_type": "markdown",
   "metadata": {},
   "source": [
    "## Tasks Today:\n",
    "\n",
    "1) <b>Creating Multiple Instances Through Loops</b> <br>\n",
    " &nbsp;&nbsp;&nbsp;&nbsp; a) Using Loops <br>\n",
    " &nbsp;&nbsp;&nbsp;&nbsp; b) Using Multiple Lists with Loops <br>\n",
    " &nbsp;&nbsp;&nbsp;&nbsp; c) Using List Comprehension with Classes<br>\n",
    " &nbsp;&nbsp;&nbsp;&nbsp; d) In-Class Exercise #1 <br>\n",
    "2) <b>Magic Methods</b> <br>\n",
    " &nbsp;&nbsp;&nbsp;&nbsp; a) \\__str\\__ <br>\n",
    " &nbsp;&nbsp;&nbsp;&nbsp; b) \\__add\\__ <br>\n",
    " &nbsp;&nbsp;&nbsp;&nbsp; c) Overriding Magic Methods <br>\n",
    " &nbsp;&nbsp;&nbsp;&nbsp; d) In-Class Exercise #2 <br>\n",
    "3) <b>Inheritance & Method Overriding (recap)</b> <br>\n",
    " &nbsp;&nbsp;&nbsp;&nbsp; a) Inheriting (recap)  <br>\n",
    " &nbsp;&nbsp;&nbsp;&nbsp; b) Overriding Inherited Magic Methods <br>\n",
    " &nbsp;&nbsp;&nbsp;&nbsp; c) Inheriting Multiple Classes <br>\n",
    " &nbsp;&nbsp;&nbsp;&nbsp; d) In-Class Exercise #3 <br>"
   ]
  },
  {
   "cell_type": "markdown",
   "metadata": {},
   "source": [
    "## Creating Multiple Instances Through Loops <br>\n",
    "<p>We can use loops to create multiple instances of a single object in just a couple of lines, even just one line.</p>"
   ]
  },
  {
   "cell_type": "markdown",
   "metadata": {},
   "source": [
    "#### Using Loops"
   ]
  },
  {
   "cell_type": "code",
   "execution_count": 15,
   "metadata": {},
   "outputs": [
    {
     "ename": "TypeError",
     "evalue": "__init__() missing 1 required positional argument: 'legs'",
     "output_type": "error",
     "traceback": [
      "\u001b[0;31m---------------------------------------------------------------------------\u001b[0m",
      "\u001b[0;31mTypeError\u001b[0m                                 Traceback (most recent call last)",
      "\u001b[0;32m<ipython-input-15-f96fe8d81beb>\u001b[0m in \u001b[0;36m<module>\u001b[0;34m\u001b[0m\n\u001b[1;32m      9\u001b[0m         \u001b[0mprint\u001b[0m\u001b[0;34m(\u001b[0m\u001b[0;34m'{} has {} {} legs'\u001b[0m\u001b[0;34m.\u001b[0m\u001b[0mformat\u001b[0m\u001b[0;34m(\u001b[0m\u001b[0mself\u001b[0m\u001b[0;34m.\u001b[0m\u001b[0mname\u001b[0m\u001b[0;34m,\u001b[0m\u001b[0mself\u001b[0m\u001b[0;34m.\u001b[0m\u001b[0mlegs\u001b[0m\u001b[0;34m,\u001b[0m\u001b[0mself\u001b[0m\u001b[0;34m.\u001b[0m\u001b[0mcolor\u001b[0m\u001b[0;34m)\u001b[0m\u001b[0;34m)\u001b[0m\u001b[0;34m\u001b[0m\u001b[0;34m\u001b[0m\u001b[0m\n\u001b[1;32m     10\u001b[0m \u001b[0;34m\u001b[0m\u001b[0m\n\u001b[0;32m---> 11\u001b[0;31m \u001b[0mdog1\u001b[0m \u001b[0;34m=\u001b[0m \u001b[0mDog\u001b[0m\u001b[0;34m(\u001b[0m\u001b[0;34m\"Lassie\"\u001b[0m\u001b[0;34m,\u001b[0m  \u001b[0;36m4\u001b[0m\u001b[0;34m)\u001b[0m\u001b[0;34m\u001b[0m\u001b[0;34m\u001b[0m\u001b[0m\n\u001b[0m\u001b[1;32m     12\u001b[0m \u001b[0mdog2\u001b[0m \u001b[0;34m=\u001b[0m \u001b[0mDog\u001b[0m\u001b[0;34m(\u001b[0m\u001b[0;34m'Max'\u001b[0m\u001b[0;34m,\u001b[0m \u001b[0;36m4\u001b[0m\u001b[0;34m)\u001b[0m\u001b[0;34m\u001b[0m\u001b[0;34m\u001b[0m\u001b[0m\n\u001b[1;32m     13\u001b[0m \u001b[0;34m\u001b[0m\u001b[0m\n",
      "\u001b[0;31mTypeError\u001b[0m: __init__() missing 1 required positional argument: 'legs'"
     ]
    }
   ],
   "source": [
    "class Dog():\n",
    "    \n",
    "    def __init__(self, name, color, legs):\n",
    "        self.name = name\n",
    "        self.color = color\n",
    "        self.legs = legs\n",
    "        \n",
    "    def printInfo(self):\n",
    "        print('{} has {} {} legs'.format(self.name,self.legs,self.color))\n",
    "        \n",
    "dog1 = Dog(\"Lassie\",  4)\n",
    "dog2 = Dog('Max', 4)\n",
    "\n",
    "dogs = []\n",
    "\n",
    "#Using a loop to create mulitple instances of a class\n",
    "for i in range(5):\n",
    "    dogs.append(Dog('Max', i))\n",
    "\n",
    "for i in range(len(dogs)):\n",
    "    dogs[i].printInfo()"
   ]
  },
  {
   "cell_type": "markdown",
   "metadata": {},
   "source": [
    "#### Using Multiple Lists with Loops"
   ]
  },
  {
   "cell_type": "code",
   "execution_count": 11,
   "metadata": {},
   "outputs": [
    {
     "ename": "NameError",
     "evalue": "name 'color' is not defined",
     "output_type": "error",
     "traceback": [
      "\u001b[0;31m---------------------------------------------------------------------------\u001b[0m",
      "\u001b[0;31mNameError\u001b[0m                                 Traceback (most recent call last)",
      "\u001b[0;32m<ipython-input-11-2dbfb5034832>\u001b[0m in \u001b[0;36m<module>\u001b[0;34m\u001b[0m\n\u001b[1;32m      3\u001b[0m \u001b[0;34m\u001b[0m\u001b[0m\n\u001b[1;32m      4\u001b[0m \u001b[0;32mfor\u001b[0m \u001b[0mi\u001b[0m \u001b[0;32min\u001b[0m \u001b[0mrange\u001b[0m\u001b[0;34m(\u001b[0m\u001b[0mlen\u001b[0m\u001b[0;34m(\u001b[0m\u001b[0mnames\u001b[0m\u001b[0;34m)\u001b[0m\u001b[0;34m)\u001b[0m\u001b[0;34m:\u001b[0m\u001b[0;34m\u001b[0m\u001b[0;34m\u001b[0m\u001b[0m\n\u001b[0;32m----> 5\u001b[0;31m     \u001b[0mdogs\u001b[0m\u001b[0;34m.\u001b[0m\u001b[0mappend\u001b[0m\u001b[0;34m(\u001b[0m\u001b[0mDog\u001b[0m\u001b[0;34m(\u001b[0m\u001b[0mnames\u001b[0m\u001b[0;34m[\u001b[0m\u001b[0mi\u001b[0m\u001b[0;34m]\u001b[0m\u001b[0;34m,\u001b[0m \u001b[0mcolor\u001b[0m\u001b[0;34m[\u001b[0m\u001b[0mi\u001b[0m\u001b[0;34m]\u001b[0m\u001b[0;34m,\u001b[0m \u001b[0;36m4\u001b[0m\u001b[0;34m)\u001b[0m\u001b[0;34m)\u001b[0m\u001b[0;34m\u001b[0m\u001b[0;34m\u001b[0m\u001b[0m\n\u001b[0m\u001b[1;32m      6\u001b[0m \u001b[0;34m\u001b[0m\u001b[0m\n\u001b[1;32m      7\u001b[0m \u001b[0;32mfor\u001b[0m \u001b[0mi\u001b[0m \u001b[0;32min\u001b[0m \u001b[0mrange\u001b[0m\u001b[0;34m(\u001b[0m\u001b[0mlen\u001b[0m\u001b[0;34m(\u001b[0m\u001b[0mdogs\u001b[0m\u001b[0;34m)\u001b[0m\u001b[0;34m)\u001b[0m\u001b[0;34m:\u001b[0m\u001b[0;34m\u001b[0m\u001b[0;34m\u001b[0m\u001b[0m\n",
      "\u001b[0;31mNameError\u001b[0m: name 'color' is not defined"
     ]
    }
   ],
   "source": [
    "names = ['Max', 'Sam', 'Clifford', 'Lassie', 'Butch']\n",
    "dogs = []\n",
    "\n",
    "for i in range(len(names)):\n",
    "    dogs.append(Dog(names[i], color[i], 4))\n",
    "    \n",
    "for i in range(len(dogs)):\n",
    "    dogs[i].printInfo()"
   ]
  },
  {
   "cell_type": "markdown",
   "metadata": {},
   "source": [
    "#### Using List Comprehension with Classes"
   ]
  },
  {
   "cell_type": "code",
   "execution_count": 8,
   "metadata": {},
   "outputs": [
    {
     "name": "stdout",
     "output_type": "stream",
     "text": [
      "Max has 4 legs\n",
      "Sam has 4 legs\n",
      "Clifford has 4 legs\n",
      "Lassie has 4 legs\n",
      "Butch has 4 legs\n"
     ]
    }
   ],
   "source": [
    "dogs = [Dog(names[i],4) for i in range(len(names))]\n",
    "\n",
    "for dog in dogs:\n",
    "    dog.printInfo()"
   ]
  },
  {
   "cell_type": "markdown",
   "metadata": {},
   "source": [
    "#### In-Class Exercise #1 - Use List Comprehension to create multiple 'Dog' objects using the lists below... <br>\n",
    "<p>names = ['max', 'lassy', 'sammi']<br>colors=['brown', 'black', 'mix']</p>"
   ]
  },
  {
   "cell_type": "code",
   "execution_count": 17,
   "metadata": {},
   "outputs": [
    {
     "name": "stdout",
     "output_type": "stream",
     "text": [
      "max has 3 brown legs\n",
      "lassy has 3 black legs\n",
      "sammi has 3 mixed legs\n"
     ]
    }
   ],
   "source": [
    "names = ['max', 'lassy', 'sammi']\n",
    "colors=['brown', 'black', 'mixed']\n",
    "\n",
    "dogs = [Dog(names[i], colors[i], 3) for i in range(len(names))]\n",
    "\n",
    "for dog in dogs:\n",
    "    dog.printInfo()"
   ]
  },
  {
   "cell_type": "markdown",
   "metadata": {},
   "source": [
    "## Magic Methods <br>\n",
    "<p>Magic methods are any method that begins and ends with two underscores... You've already seen one of them in __init__(). Magic methods are the general functionality of an object, and you have the ability to overwrite what those methods do, giving you flexibility in your program.</p>"
   ]
  },
  {
   "cell_type": "markdown",
   "metadata": {},
   "source": [
    "#### \\__str\\__ <br>\n",
    "<p>This is the output of an object when you print the object itself.</p>"
   ]
  },
  {
   "cell_type": "code",
   "execution_count": 19,
   "metadata": {},
   "outputs": [
    {
     "name": "stdout",
     "output_type": "stream",
     "text": [
      "Jack is 27 years old and has 10 toes\n"
     ]
    }
   ],
   "source": [
    "class Person():\n",
    "    def __init__(self,name,age,number_of_toes):\n",
    "        self.name = name\n",
    "        self.age = age\n",
    "        self.number_of_toes = number_of_toes\n",
    "        \n",
    "    def __str__(self): #Must have a return statement that returns a string.\n",
    "        return '{} is {} years old and has {} toes'.format(self.name, \\\n",
    "        self.age, self.number_of_toes)\n",
    "    \n",
    "jack = Person('Jack', 27, 10)\n",
    "print(jack)\n"
   ]
  },
  {
   "cell_type": "markdown",
   "metadata": {},
   "source": [
    "#### \\__add\\__"
   ]
  },
  {
   "cell_type": "code",
   "execution_count": 1,
   "metadata": {},
   "outputs": [
    {
     "name": "stdout",
     "output_type": "stream",
     "text": [
      "8\n"
     ]
    }
   ],
   "source": [
    "class Dog():\n",
    "    \n",
    "    def __init__(self, name, color, legs):\n",
    "        self.name = name\n",
    "        self.color = color\n",
    "        self.legs = legs\n",
    "        \n",
    "    # Override the __add__ magic method... can only add instances of the same class\n",
    "    def __add__(self, extra_number_legs):\n",
    "        if type(extra_number_legs) != int:\n",
    "            return self.legs + extra_number_legs.legs #instance.attribute. without the .legs,\n",
    "        #you're trying to add together an integer and an instance.\n",
    "        else:\n",
    "            return self.legs + extra_number_legs\n",
    "    # The original __add__ works like this:\n",
    "    # a + b = a.__add__(b)\n",
    "    \n",
    "dog1 = Dog('Max', 'Mixed', 4)\n",
    "dog2 = Dog('Lassy', 'Black', 4)\n",
    "\n",
    "num_legs = dog2 + dog1\n",
    "print(num_legs)"
   ]
  },
  {
   "cell_type": "markdown",
   "metadata": {},
   "source": [
    "#### Overriding Magic Methods"
   ]
  },
  {
   "cell_type": "code",
   "execution_count": null,
   "metadata": {},
   "outputs": [],
   "source": [
    "# see above"
   ]
  },
  {
   "cell_type": "markdown",
   "metadata": {},
   "source": [
    "#### In-Class Exercise #2 - Google another magic method and overwrite it's functionality..."
   ]
  },
  {
   "cell_type": "code",
   "execution_count": 13,
   "metadata": {},
   "outputs": [
    {
     "name": "stdout",
     "output_type": "stream",
     "text": [
      "Why do you have to be so positive, Max?\n"
     ]
    },
    {
     "data": {
      "text/plain": [
       "4"
      ]
     },
     "execution_count": 13,
     "metadata": {},
     "output_type": "execute_result"
    }
   ],
   "source": [
    "class Dog():\n",
    "    \n",
    "    def __init__(self, name, color, legs):\n",
    "        self.name = name\n",
    "        self.color = color\n",
    "        self.legs = legs\n",
    "        \n",
    "    # Override the __add__ magic method... can only add instances of the same class\n",
    "    def __abs__(self):\n",
    "        if self.legs > 0:\n",
    "            print('Why do you have to be so positive, ' + self.name + '?')\n",
    "        else:\n",
    "            return abs(self.legs)\n",
    "    #original: object.__abs__(self)  \n",
    "              #^refers to class\n",
    "    \n",
    "dog1 = Dog('Max', 'Mixed', 4)\n",
    "dog2 = Dog('Lassy', 'Black', -4)\n",
    "dog1.__abs__()\n",
    "abs(dog2)  #You have the choice of either syntax, here on line 19 and 20"
   ]
  },
  {
   "cell_type": "markdown",
   "metadata": {},
   "source": [
    "## Inheritance & Method Overriding (recap)"
   ]
  },
  {
   "cell_type": "markdown",
   "metadata": {},
   "source": [
    "#### Inheriting (recap)"
   ]
  },
  {
   "cell_type": "code",
   "execution_count": 17,
   "metadata": {},
   "outputs": [
    {
     "name": "stdout",
     "output_type": "stream",
     "text": [
      "This is an Mammal\n",
      "Frank is part of the Mammal species\n"
     ]
    }
   ],
   "source": [
    "class Animal():\n",
    "    def __init__(self,species):\n",
    "        self.species = species\n",
    "        \n",
    "    def __str__(self):\n",
    "        return 'This is an {}'.format(self.species)\n",
    "    \n",
    "class Dog(Animal):\n",
    "    def __init__(self,species,name):\n",
    "        self.name = name\n",
    "        Animal.__init__(self,species)\n",
    "        \n",
    "    def __str__(self):\n",
    "        return \"{} is part of the {} species\".format(\\\n",
    "        self.name,self.species)\n",
    "        \n",
    "mammal = Animal('Mammal')\n",
    "dog = Dog('Mammal', 'Frank')\n",
    "print(mammal)\n",
    "print(dog)"
   ]
  },
  {
   "cell_type": "markdown",
   "metadata": {},
   "source": [
    "#### Overriding Inherited Magic Methods"
   ]
  },
  {
   "cell_type": "code",
   "execution_count": null,
   "metadata": {},
   "outputs": [],
   "source": [
    "# see above"
   ]
  },
  {
   "cell_type": "markdown",
   "metadata": {},
   "source": [
    "#### Inheriting Multiple Classes"
   ]
  },
  {
   "cell_type": "code",
   "execution_count": 21,
   "metadata": {},
   "outputs": [
    {
     "name": "stdout",
     "output_type": "stream",
     "text": [
      "Bowser is part of the Canine species and runs 30mph\n"
     ]
    },
    {
     "data": {
      "text/plain": [
       "9.8"
      ]
     },
     "execution_count": 21,
     "metadata": {},
     "output_type": "execute_result"
    }
   ],
   "source": [
    "class Physics():\n",
    "    \n",
    "    def __init__(self,speed):\n",
    "        self.gravity = 9.8\n",
    "        self.speed = speed\n",
    "        \n",
    "class Animal():\n",
    "    \n",
    "    def __init__(self, species):\n",
    "        self.species = species\n",
    "        \n",
    "    def __str__(self): #Overwriting a magic method\n",
    "        return \"This is a {}\".format(self.species)\n",
    "    \n",
    "class Dog(Animal, Physics): #Inheriting from 2 different classes.\n",
    "    def __init__(self, species, name, speed):\n",
    "        self.name = name\n",
    "        Animal.__init__(self, species)\n",
    "        Physics.__init__(self, speed)\n",
    "        \n",
    "    def __str__(self): #Overwriting the overwrite of magic methods\n",
    "        return '{} is part of the {} species and runs \\\n",
    "{}mph'.format(self.name, self.species, self.speed)\n",
    "    \n",
    "dog1 = Dog('Canine', 'Bowser', 30)\n",
    "print(dog1)\n",
    "dog1.gravity"
   ]
  },
  {
   "cell_type": "markdown",
   "metadata": {},
   "source": [
    "#### In-Class Exercise #3 - Create a transportation class, a physics class, and a bus class <br>\n",
    "<p>Create a transportation class, a physics class, and a bus class... Have the Bus class inherit both the transportation class and physics class. The physics class should have an attribute of speed, and print out the speed, plus have an acceleration method. The transportation class should have a 'type_of_transportation' attribute, and print the type(type_of_transportation [i.e road/air]) that is being used. The bus class should have attributes that describe the bus, such as; wheels, color, size, etc. Overwrite the __str__ method so that when you print the object, it prints out the bus information, and the speed.</p>"
   ]
  },
  {
   "cell_type": "code",
   "execution_count": 52,
   "metadata": {},
   "outputs": [
    {
     "name": "stdout",
     "output_type": "stream",
     "text": [
      "This bus has 8 wheels, glass windows, and drives at 90 m/s on electric fuel.\n",
      "The speed is 90 m/s.\n"
     ]
    }
   ],
   "source": [
    "class Physics():    \n",
    "    def __init__(self, speed):\n",
    "        self.gravity = 9.8\n",
    "        self.speed = speed\n",
    "    \n",
    "    def accelerate(self):\n",
    "        end_speed = int(input('Your starting speed is {} m/s. What is\\\n",
    " your ending speed? '.format(self.speed)))\n",
    "        elapsed = float(input('How long did it take to accelerate? In seconds: '))\n",
    "        print('Your acceleration was ' + str((end_speed - int(self.speed))/elapsed))\n",
    "    \n",
    "    def printSpeed(self):\n",
    "        print('The speed is {} m/s.'.format(self.speed))\n",
    "                 \n",
    "class Transportation():                 \n",
    "    def __init__(self, windows, roof, kind):\n",
    "        self.windows = windows\n",
    "        self.roof = roof\n",
    "        self.kind = kind\n",
    "        \n",
    "    def printTransport(self):\n",
    "        print('This vehicle has {} windows, a {} roof, and is a {}'\\\n",
    ".format(self.windows, self.roof, self.kind))\n",
    "                 \n",
    "class Bus(Physics, Transportation):\n",
    "    def __init__(self, wheels, windows, speed, roof, kind, fuel):\n",
    "        self.wheels = wheels\n",
    "        self.fuel = fuel\n",
    "        Transportation.__init__(self, windows, roof, kind)\n",
    "        Physics.__init__(self, speed)\n",
    "        \n",
    "    def __str__(self):\n",
    "        return 'This bus has {} wheels, {} windows, and drives at {}\\\n",
    " m/s on {} fuel.'.format(self.wheels, self.windows, self.speed, self.fuel)\n",
    "        \n",
    "megabus = Bus('8', 'glass', '90', 'metal', 'automobile', 'electric')\n",
    "print(megabus)\n",
    "megabus.printSpeed()"
   ]
  },
  {
   "cell_type": "code",
   "execution_count": null,
   "metadata": {},
   "outputs": [],
   "source": []
  }
 ],
 "metadata": {
  "kernelspec": {
   "display_name": "Python 3",
   "language": "python",
   "name": "python3"
  },
  "language_info": {
   "codemirror_mode": {
    "name": "ipython",
    "version": 3
   },
   "file_extension": ".py",
   "mimetype": "text/x-python",
   "name": "python",
   "nbconvert_exporter": "python",
   "pygments_lexer": "ipython3",
   "version": "3.7.4"
  }
 },
 "nbformat": 4,
 "nbformat_minor": 2
}
